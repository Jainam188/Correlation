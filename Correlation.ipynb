{
 "cells": [
  {
   "cell_type": "markdown",
   "metadata": {},
   "source": [
    "Imported Necessary Libraries"
   ]
  },
  {
   "cell_type": "code",
   "execution_count": 1,
   "metadata": {},
   "outputs": [],
   "source": [
    "import pandas as pd\n",
    "from pandas.plotting import scatter_matrix\n",
    "import seaborn as sns\n",
    "import matplotlib.pyplot as plt"
   ]
  },
  {
   "cell_type": "markdown",
   "metadata": {},
   "source": [
    "Taken Dataset of Forest Fire from the UCI and I am also putting the link off Dataset to directly download or you can download the dataset from my github repository from given link.\n",
    "Printing the Head part of Dataset."
   ]
  },
  {
   "cell_type": "code",
   "execution_count": 15,
   "metadata": {},
   "outputs": [
    {
     "name": "stdout",
     "output_type": "stream",
     "text": [
      "Head Part of the Dataset \n",
      "   X  Y month  day  FFMC   DMC     DC  ISI  temp  RH  wind  rain  area\n",
      "0  7  5   mar  fri  86.2  26.2   94.3  5.1   8.2  51   6.7   0.0   0.0\n",
      "1  7  4   oct  tue  90.6  35.4  669.1  6.7  18.0  33   0.9   0.0   0.0\n",
      "2  7  4   oct  sat  90.6  43.7  686.9  6.7  14.6  33   1.3   0.0   0.0\n",
      "3  8  6   mar  fri  91.7  33.3   77.5  9.0   8.3  97   4.0   0.2   0.0\n",
      "4  8  6   mar  sun  89.3  51.3  102.2  9.6  11.4  99   1.8   0.0   0.0\n"
     ]
    }
   ],
   "source": [
    "data = pd.read_csv(\"forestfires.csv\")\n",
    "print(\"Head Part of the Dataset \")\n",
    "print(data.head())"
   ]
  },
  {
   "cell_type": "markdown",
   "metadata": {},
   "source": [
    "For understanding of the given data we are printing information of the dataset."
   ]
  },
  {
   "cell_type": "code",
   "execution_count": 16,
   "metadata": {},
   "outputs": [
    {
     "name": "stdout",
     "output_type": "stream",
     "text": [
      "Information about all columns presented in Dataset \n",
      "<class 'pandas.core.frame.DataFrame'>\n",
      "RangeIndex: 517 entries, 0 to 516\n",
      "Data columns (total 13 columns):\n",
      "X        517 non-null int64\n",
      "Y        517 non-null int64\n",
      "month    517 non-null object\n",
      "day      517 non-null object\n",
      "FFMC     517 non-null float64\n",
      "DMC      517 non-null float64\n",
      "DC       517 non-null float64\n",
      "ISI      517 non-null float64\n",
      "temp     517 non-null float64\n",
      "RH       517 non-null int64\n",
      "wind     517 non-null float64\n",
      "rain     517 non-null float64\n",
      "area     517 non-null float64\n",
      "dtypes: float64(8), int64(3), object(2)\n",
      "memory usage: 52.6+ KB\n",
      "None\n"
     ]
    }
   ],
   "source": [
    "print(\"Information about all columns presented in Dataset \")\n",
    "print(data.info())"
   ]
  },
  {
   "cell_type": "markdown",
   "metadata": {},
   "source": [
    "As we can see that month and day columns are object so we cannot find correlation between them so we are converting them by giving the values to it as shown below."
   ]
  },
  {
   "cell_type": "code",
   "execution_count": 17,
   "metadata": {},
   "outputs": [],
   "source": [
    "data.month.replace(('jan','feb','mar','apr','may','jun','jul','aug','sep','oct','nov','dec'),(1,2,3,4,5,6,7,8,9,10,11,12), inplace=True)\n",
    "data.day.replace(('mon','tue','wed','thu','fri','sat','sun'),(1,2,3,4,5,6,7), inplace=True)"
   ]
  },
  {
   "cell_type": "markdown",
   "metadata": {},
   "source": [
    "described data which will tell us the mean value, Standard Deviation, minimum and maximum values of the each column of the dataset."
   ]
  },
  {
   "cell_type": "code",
   "execution_count": 18,
   "metadata": {},
   "outputs": [
    {
     "name": "stdout",
     "output_type": "stream",
     "text": [
      "                X           Y       month         day        FFMC         DMC  \\\n",
      "count  517.000000  517.000000  517.000000  517.000000  517.000000  517.000000   \n",
      "mean     4.669246    4.299807    7.475822    4.259188   90.644681  110.872340   \n",
      "std      2.313778    1.229900    2.275990    2.072929    5.520111   64.046482   \n",
      "min      1.000000    2.000000    1.000000    1.000000   18.700000    1.100000   \n",
      "25%      3.000000    4.000000    7.000000    2.000000   90.200000   68.600000   \n",
      "50%      4.000000    4.000000    8.000000    5.000000   91.600000  108.300000   \n",
      "75%      7.000000    5.000000    9.000000    6.000000   92.900000  142.400000   \n",
      "max      9.000000    9.000000   12.000000    7.000000   96.200000  291.300000   \n",
      "\n",
      "               DC         ISI        temp          RH        wind        rain  \\\n",
      "count  517.000000  517.000000  517.000000  517.000000  517.000000  517.000000   \n",
      "mean   547.940039    9.021663   18.889168   44.288201    4.017602    0.021663   \n",
      "std    248.066192    4.559477    5.806625   16.317469    1.791653    0.295959   \n",
      "min      7.900000    0.000000    2.200000   15.000000    0.400000    0.000000   \n",
      "25%    437.700000    6.500000   15.500000   33.000000    2.700000    0.000000   \n",
      "50%    664.200000    8.400000   19.300000   42.000000    4.000000    0.000000   \n",
      "75%    713.900000   10.800000   22.800000   53.000000    4.900000    0.000000   \n",
      "max    860.600000   56.100000   33.300000  100.000000    9.400000    6.400000   \n",
      "\n",
      "              area  \n",
      "count   517.000000  \n",
      "mean     12.847292  \n",
      "std      63.655818  \n",
      "min       0.000000  \n",
      "25%       0.000000  \n",
      "50%       0.520000  \n",
      "75%       6.570000  \n",
      "max    1090.840000  \n"
     ]
    }
   ],
   "source": [
    "print(data.describe())"
   ]
  },
  {
   "cell_type": "markdown",
   "metadata": {},
   "source": [
    "Finding Correlationship between all columns. Correlation help to find the relationship between feature columns and target column. \n",
    "There are 3 types of correlation.\n",
    "\n",
    "1.Pearson Correlation\n",
    "2.Spearman's Correlation\n",
    "3.Kendall's Tau Correlation"
   ]
  },
  {
   "cell_type": "code",
   "execution_count": 19,
   "metadata": {},
   "outputs": [
    {
     "name": "stdout",
     "output_type": "stream",
     "text": [
      "Pearson Correlation with All Values\n",
      "              X         Y     month       day      FFMC       DMC        DC  \\\n",
      "X      1.000000  0.539548 -0.065003 -0.024922 -0.021039 -0.048384 -0.085916   \n",
      "Y      0.539548  1.000000 -0.066292 -0.005453 -0.046308  0.007782 -0.101178   \n",
      "month -0.065003 -0.066292  1.000000 -0.050837  0.291477  0.466645  0.868698   \n",
      "day   -0.024922 -0.005453 -0.050837  1.000000 -0.041068  0.062870  0.000105   \n",
      "FFMC  -0.021039 -0.046308  0.291477 -0.041068  1.000000  0.382619  0.330512   \n",
      "DMC   -0.048384  0.007782  0.466645  0.062870  0.382619  1.000000  0.682192   \n",
      "DC    -0.085916 -0.101178  0.868698  0.000105  0.330512  0.682192  1.000000   \n",
      "ISI    0.006210 -0.024488  0.186597  0.032909  0.531805  0.305128  0.229154   \n",
      "temp  -0.051258 -0.024103  0.368842  0.052190  0.431532  0.469594  0.496208   \n",
      "RH     0.085223  0.062221 -0.095280  0.092151 -0.300995  0.073795 -0.039192   \n",
      "wind   0.018798 -0.020341 -0.086368  0.032478 -0.028485 -0.105342 -0.203466   \n",
      "rain   0.065387  0.033234  0.013438 -0.048340  0.056702  0.074790  0.035861   \n",
      "area   0.063385  0.044873  0.056496  0.023226  0.040122  0.072994  0.049383   \n",
      "\n",
      "            ISI      temp        RH      wind      rain      area  \n",
      "X      0.006210 -0.051258  0.085223  0.018798  0.065387  0.063385  \n",
      "Y     -0.024488 -0.024103  0.062221 -0.020341  0.033234  0.044873  \n",
      "month  0.186597  0.368842 -0.095280 -0.086368  0.013438  0.056496  \n",
      "day    0.032909  0.052190  0.092151  0.032478 -0.048340  0.023226  \n",
      "FFMC   0.531805  0.431532 -0.300995 -0.028485  0.056702  0.040122  \n",
      "DMC    0.305128  0.469594  0.073795 -0.105342  0.074790  0.072994  \n",
      "DC     0.229154  0.496208 -0.039192 -0.203466  0.035861  0.049383  \n",
      "ISI    1.000000  0.394287 -0.132517  0.106826  0.067668  0.008258  \n",
      "temp   0.394287  1.000000 -0.527390 -0.227116  0.069491  0.097844  \n",
      "RH    -0.132517 -0.527390  1.000000  0.069410  0.099751 -0.075519  \n",
      "wind   0.106826 -0.227116  0.069410  1.000000  0.061119  0.012317  \n",
      "rain   0.067668  0.069491  0.099751  0.061119  1.000000 -0.007366  \n",
      "area   0.008258  0.097844 -0.075519  0.012317 -0.007366  1.000000  \n"
     ]
    }
   ],
   "source": [
    "# Pearson Correlation\n",
    "print(\"Pearson Correlation with All Values\")\n",
    "pearson_corr = data.corr(method='pearson')\n",
    "print(pearson_corr)"
   ]
  },
  {
   "cell_type": "code",
   "execution_count": 20,
   "metadata": {},
   "outputs": [
    {
     "name": "stdout",
     "output_type": "stream",
     "text": [
      "Spearman's Correlation with All Values\n",
      "              X         Y     month       day      FFMC       DMC        DC  \\\n",
      "X      1.000000  0.492705 -0.069044 -0.022998 -0.059573 -0.079860 -0.072543   \n",
      "Y      0.492705  1.000000 -0.082142 -0.010061 -0.009635  0.004525 -0.105404   \n",
      "month -0.069044 -0.082142  1.000000 -0.063221  0.176771  0.250538  0.769425   \n",
      "day   -0.022998 -0.010061 -0.063221  1.000000  0.015768  0.026804  0.009544   \n",
      "FFMC  -0.059573 -0.009635  0.176771  0.015768  1.000000  0.511437  0.263049   \n",
      "DMC   -0.079860  0.004525  0.250538  0.026804  0.511437  1.000000  0.558791   \n",
      "DC    -0.072543 -0.105404  0.769425  0.009544  0.263049  0.558791  1.000000   \n",
      "ISI   -0.010799 -0.013202  0.046424  0.068310  0.783566  0.425159  0.103832   \n",
      "temp  -0.051083 -0.040541  0.176009  0.049776  0.594765  0.502963  0.308746   \n",
      "RH     0.065841  0.050028 -0.088580  0.093027 -0.319549  0.034604  0.025869   \n",
      "wind   0.026846 -0.008629 -0.120756  0.038983 -0.035399 -0.110436 -0.205825   \n",
      "rain   0.109536  0.079107 -0.057870 -0.044333  0.097398  0.120555  0.008048   \n",
      "area   0.060499  0.046018  0.117681 -0.016799  0.025300  0.071920  0.061633   \n",
      "\n",
      "            ISI      temp        RH      wind      rain      area  \n",
      "X     -0.010799 -0.051083  0.065841  0.026846  0.109536  0.060499  \n",
      "Y     -0.013202 -0.040541  0.050028 -0.008629  0.079107  0.046018  \n",
      "month  0.046424  0.176009 -0.088580 -0.120756 -0.057870  0.117681  \n",
      "day    0.068310  0.049776  0.093027  0.038983 -0.044333 -0.016799  \n",
      "FFMC   0.783566  0.594765 -0.319549 -0.035399  0.097398  0.025300  \n",
      "DMC    0.425159  0.502963  0.034604 -0.110436  0.120555  0.071920  \n",
      "DC     0.103832  0.308746  0.025869 -0.205825  0.008048  0.061633  \n",
      "ISI    1.000000  0.416404 -0.177498  0.135586  0.117454  0.012496  \n",
      "temp   0.416404  1.000000 -0.517636 -0.179908  0.026024  0.078696  \n",
      "RH    -0.177498 -0.517636  1.000000  0.037157  0.181059 -0.024221  \n",
      "wind   0.135586 -0.179908  0.037157  1.000000  0.120509  0.053196  \n",
      "rain   0.117454  0.026024  0.181059  0.120509  1.000000 -0.064073  \n",
      "area   0.012496  0.078696 -0.024221  0.053196 -0.064073  1.000000  \n"
     ]
    }
   ],
   "source": [
    "# Spearman's Correlation\n",
    "print(\"Spearman's Correlation with All Values\")\n",
    "spear_corr = data.corr(method='spearman')\n",
    "print(spear_corr)"
   ]
  },
  {
   "cell_type": "code",
   "execution_count": 21,
   "metadata": {},
   "outputs": [
    {
     "name": "stdout",
     "output_type": "stream",
     "text": [
      "Kendall's Tau Correlation with All Values\n",
      "              X         Y     month       day      FFMC       DMC        DC  \\\n",
      "X      1.000000  0.404808 -0.051536 -0.016146 -0.041968 -0.057694 -0.050904   \n",
      "Y      0.404808  1.000000 -0.065451 -0.007658 -0.007451  0.002011 -0.077113   \n",
      "month -0.051536 -0.065451  1.000000 -0.049820  0.128682  0.169444  0.651349   \n",
      "day   -0.016146 -0.007658 -0.049820  1.000000  0.005390  0.023571  0.011643   \n",
      "FFMC  -0.041968 -0.007451  0.128682  0.005390  1.000000  0.366986  0.168511   \n",
      "DMC   -0.057694  0.002011  0.169444  0.023571  0.366986  1.000000  0.437106   \n",
      "DC    -0.050904 -0.077113  0.651349  0.011643  0.168511  0.437106  1.000000   \n",
      "ISI   -0.007817 -0.010535  0.025389  0.041857  0.621319  0.298541  0.062287   \n",
      "temp  -0.037157 -0.031028  0.119931  0.034975  0.437562  0.355047  0.193231   \n",
      "RH     0.047654  0.037869 -0.066386  0.066929 -0.224983  0.021770  0.018508   \n",
      "wind   0.018934 -0.006836 -0.096741  0.030603 -0.023525 -0.078621 -0.145000   \n",
      "rain   0.094551  0.071477 -0.052022 -0.038836  0.080062  0.097924  0.006734   \n",
      "area   0.045700  0.037083  0.094661 -0.013463  0.018176  0.054307  0.044791   \n",
      "\n",
      "            ISI      temp        RH      wind      rain      area  \n",
      "X     -0.007817 -0.037157  0.047654  0.018934  0.094551  0.045700  \n",
      "Y     -0.010535 -0.031028  0.037869 -0.006836  0.071477  0.037083  \n",
      "month  0.025389  0.119931 -0.066386 -0.096741 -0.052022  0.094661  \n",
      "day    0.041857  0.034975  0.066929  0.030603 -0.038836 -0.013463  \n",
      "FFMC   0.621319  0.437562 -0.224983 -0.023525  0.080062  0.018176  \n",
      "DMC    0.298541  0.355047  0.021770 -0.078621  0.097924  0.054307  \n",
      "DC     0.062287  0.193231  0.018508 -0.145000  0.006734  0.044791  \n",
      "ISI    1.000000  0.291509 -0.125790  0.096388  0.096599  0.009149  \n",
      "temp   0.291509  1.000000 -0.383458 -0.126006  0.021358  0.057415  \n",
      "RH    -0.125790 -0.383458  1.000000  0.024118  0.148588 -0.017796  \n",
      "wind   0.096388 -0.126006  0.024118  1.000000  0.101791  0.039423  \n",
      "rain   0.096599  0.021358  0.148588  0.101791  1.000000 -0.056028  \n",
      "area   0.009149  0.057415 -0.017796  0.039423 -0.056028  1.000000  \n"
     ]
    }
   ],
   "source": [
    "# Kendall's Tau Correlation\n",
    "print(\"Kendall's Tau Correlation with All Values\")\n",
    "kendall_corr = data.corr(method='kendall')\n",
    "print(kendall_corr)"
   ]
  },
  {
   "cell_type": "markdown",
   "metadata": {},
   "source": [
    "We are using seaborn library to visualize the correlation by Heatmap. When it's showing heated red area then it shows the positive correlation and if it shows the cooler blue area then it shows the negative correlation."
   ]
  },
  {
   "cell_type": "code",
   "execution_count": 22,
   "metadata": {},
   "outputs": [
    {
     "data": {
      "image/png": "[encoded data removed]",
      "text/plain": [
       "<Figure size 432x288 with 2 Axes>"
      ]
     },
     "metadata": {
      "needs_background": "light"
     },
     "output_type": "display_data"
    }
   ],
   "source": [
    "# To show correlation as Coolwarm\n",
    "sns.heatmap(spear_corr, cmap='coolwarm')\n",
    "plt.title(\"Correlation Between All Columns\")\n",
    "plt.show()"
   ]
  },
  {
   "cell_type": "markdown",
   "metadata": {},
   "source": [
    "We can find the correlation with only targeted column."
   ]
  },
  {
   "cell_type": "code",
   "execution_count": 23,
   "metadata": {},
   "outputs": [
    {
     "name": "stdout",
     "output_type": "stream",
     "text": [
      "Correlation with Only Taget Value\n",
      "X        0.063385\n",
      "Y        0.044873\n",
      "month    0.056496\n",
      "day      0.023226\n",
      "FFMC     0.040122\n",
      "DMC      0.072994\n",
      "DC       0.049383\n",
      "ISI      0.008258\n",
      "temp     0.097844\n",
      "RH      -0.075519\n",
      "wind     0.012317\n",
      "rain    -0.007366\n",
      "Name: area, dtype: float64\n"
     ]
    }
   ],
   "source": [
    "# Correlation with only Target Value\n",
    "print(\"Correlation with Only Taget Value\")\n",
    "corr = data.corr()['area'][:-1]\n",
    "print(corr)"
   ]
  },
  {
   "cell_type": "markdown",
   "metadata": {},
   "source": [
    "We can also find correlation directly between two variable."
   ]
  },
  {
   "cell_type": "code",
   "execution_count": 26,
   "metadata": {},
   "outputs": [
    {
     "name": "stdout",
     "output_type": "stream",
     "text": [
      "0.09784410734168454\n"
     ]
    }
   ],
   "source": [
    "one_corr = data['temp'].corr(data['area'])\n",
    "print(one_corr)"
   ]
  },
  {
   "cell_type": "markdown",
   "metadata": {},
   "source": [
    "After correlation we can say that the temperature has the highest positive relationship with the burned area. and DMC, months has also positive correlation and rain has the lowest and negative correlation.\n",
    "So we are plotting the month and the area using Bar chart for visualize the realtionship between them."
   ]
  },
  {
   "cell_type": "code",
   "execution_count": 9,
   "metadata": {},
   "outputs": [
    {
     "data": {
      "image/png": "[encoded data removed]",
      "text/plain": [
       "<Figure size 432x288 with 1 Axes>"
      ]
     },
     "metadata": {
      "needs_background": "light"
     },
     "output_type": "display_data"
    }
   ],
   "source": [
    "y = data['month']\n",
    "x = data['area']\n",
    "plt.bar(y, x, align='center', alpha=0.5)\n",
    "plt.xlabel('Months')\n",
    "plt.ylabel('Area')\n",
    "plt.title('Burned Area By Months')\n",
    "plt.show()"
   ]
  },
  {
   "cell_type": "markdown",
   "metadata": {},
   "source": [
    "we are plotting the temperature and the area using Bar chart for visualize the realtionship between them."
   ]
  },
  {
   "cell_type": "code",
   "execution_count": 10,
   "metadata": {},
   "outputs": [
    {
     "data": {
      "image/png": "[encoded data removed]",
      "text/plain": [
       "<Figure size 432x288 with 1 Axes>"
      ]
     },
     "metadata": {
      "needs_background": "light"
     },
     "output_type": "display_data"
    }
   ],
   "source": [
    "y = data['temp']\n",
    "x = data['area']\n",
    "plt.bar(y, x, align='center', alpha=0.5)\n",
    "plt.xlabel('Temp')\n",
    "plt.ylabel('Area')\n",
    "plt.title('Burned Area affected by Temp')\n",
    "plt.show()"
   ]
  }
 ],
 "metadata": {
  "kernelspec": {
   "display_name": "Python 3",
   "language": "python",
   "name": "python3"
  },
  "language_info": {
   "codemirror_mode": {
    "name": "ipython",
    "version": 3
   },
   "file_extension": ".py",
   "mimetype": "text/x-python",
   "name": "python",
   "nbconvert_exporter": "python",
   "pygments_lexer": "ipython3",
   "version": "3.7.0"
  }
 },
 "nbformat": 4,
 "nbformat_minor": 2
}
